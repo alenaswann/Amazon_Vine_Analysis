{
  "nbformat": 4,
  "nbformat_minor": 0,
  "metadata": {
    "colab": {
      "name": "Vine_Review_Analysis.ipynb",
      "provenance": []
    },
    "kernelspec": {
      "name": "python3",
      "display_name": "Python 3"
    },
    "language_info": {
      "name": "python"
    }
  },
  "cells": [
    {
      "cell_type": "code",
      "metadata": {
        "colab": {
          "base_uri": "https://localhost:8080/"
        },
        "id": "A1VZ70xpXPek",
        "outputId": "ade64f98-648e-43bc-8d7d-5a5080f0b28e"
      },
      "source": [
        "import os\n",
        "# Find the latest version of spark 3.0 from http://www.apache.org/dist/spark/ and enter as the spark version\n",
        "# For example:\n",
        "# spark_version = 'spark-3.0.3'\n",
        "spark_version = 'spark-3.0.3'\n",
        "os.environ['SPARK_VERSION']=spark_version\n",
        "\n",
        "# Install Spark and Java\n",
        "!apt-get update\n",
        "!apt-get install openjdk-11-jdk-headless -qq > /dev/null\n",
        "!wget -q http://www.apache.org/dist/spark/$SPARK_VERSION/$SPARK_VERSION-bin-hadoop2.7.tgz\n",
        "!tar xf $SPARK_VERSION-bin-hadoop2.7.tgz\n",
        "!pip install -q findspark\n",
        "\n",
        "# Set Environment Variables\n",
        "import os\n",
        "os.environ[\"JAVA_HOME\"] = \"/usr/lib/jvm/java-11-openjdk-amd64\"\n",
        "os.environ[\"SPARK_HOME\"] = f\"/content/{spark_version}-bin-hadoop2.7\"\n",
        "\n",
        "# Start a SparkSession\n",
        "import findspark\n",
        "findspark.init()"
      ],
      "execution_count": 1,
      "outputs": [
        {
          "output_type": "stream",
          "name": "stdout",
          "text": [
            "\r0% [Working]\r            \rIgn:1 https://developer.download.nvidia.com/compute/cuda/repos/ubuntu1804/x86_64  InRelease\n",
            "\r0% [Connecting to archive.ubuntu.com] [Connecting to security.ubuntu.com] [Conn\r                                                                               \rIgn:2 https://developer.download.nvidia.com/compute/machine-learning/repos/ubuntu1804/x86_64  InRelease\n",
            "\r0% [Connecting to archive.ubuntu.com (91.189.88.152)] [Connecting to security.u\r                                                                               \rGet:3 https://developer.download.nvidia.com/compute/cuda/repos/ubuntu1804/x86_64  Release [696 B]\n",
            "\r0% [Connecting to archive.ubuntu.com (91.189.88.152)] [Connecting to security.u\r0% [Connecting to archive.ubuntu.com (91.189.88.152)] [Connecting to security.u\r                                                                               \rHit:4 https://developer.download.nvidia.com/compute/machine-learning/repos/ubuntu1804/x86_64  Release\n",
            "\r0% [Connecting to archive.ubuntu.com (91.189.88.152)] [Connecting to security.u\r0% [Release.gpg gpgv 564 B] [Connecting to archive.ubuntu.com (91.189.88.152)] \r                                                                               \rGet:5 https://developer.download.nvidia.com/compute/cuda/repos/ubuntu1804/x86_64  Release.gpg [836 B]\n",
            "Get:6 https://cloud.r-project.org/bin/linux/ubuntu bionic-cran40/ InRelease [3,626 B]\n",
            "Get:7 http://security.ubuntu.com/ubuntu bionic-security InRelease [88.7 kB]\n",
            "Hit:8 http://archive.ubuntu.com/ubuntu bionic InRelease\n",
            "Get:9 http://ppa.launchpad.net/c2d4u.team/c2d4u4.0+/ubuntu bionic InRelease [15.9 kB]\n",
            "Get:11 http://archive.ubuntu.com/ubuntu bionic-updates InRelease [88.7 kB]\n",
            "Get:12 https://developer.download.nvidia.com/compute/cuda/repos/ubuntu1804/x86_64  Packages [829 kB]\n",
            "Hit:13 http://ppa.launchpad.net/cran/libgit2/ubuntu bionic InRelease\n",
            "Get:14 http://archive.ubuntu.com/ubuntu bionic-backports InRelease [74.6 kB]\n",
            "Hit:15 http://ppa.launchpad.net/deadsnakes/ppa/ubuntu bionic InRelease\n",
            "Hit:16 http://ppa.launchpad.net/graphics-drivers/ppa/ubuntu bionic InRelease\n",
            "Get:17 http://security.ubuntu.com/ubuntu bionic-security/restricted amd64 Packages [689 kB]\n",
            "Get:18 http://security.ubuntu.com/ubuntu bionic-security/universe amd64 Packages [1,444 kB]\n",
            "Get:19 http://security.ubuntu.com/ubuntu bionic-security/main amd64 Packages [2,459 kB]\n",
            "Get:20 http://ppa.launchpad.net/c2d4u.team/c2d4u4.0+/ubuntu bionic/main Sources [1,813 kB]\n",
            "Get:21 http://archive.ubuntu.com/ubuntu bionic-updates/main amd64 Packages [2,898 kB]\n",
            "Get:22 http://ppa.launchpad.net/c2d4u.team/c2d4u4.0+/ubuntu bionic/main amd64 Packages [930 kB]\n",
            "Get:23 http://archive.ubuntu.com/ubuntu bionic-updates/universe amd64 Packages [2,225 kB]\n",
            "Get:24 http://archive.ubuntu.com/ubuntu bionic-updates/restricted amd64 Packages [725 kB]\n",
            "Fetched 14.3 MB in 5s (2,967 kB/s)\n",
            "Reading package lists... Done\n"
          ]
        }
      ]
    },
    {
      "cell_type": "code",
      "metadata": {
        "id": "gJlufyxkXoTy"
      },
      "source": [
        "# Start Spark session\n",
        "from pyspark.sql import SparkSession\n",
        "spark = SparkSession.builder.appName(\"Vine_Review_Analysis\").getOrCreate()"
      ],
      "execution_count": 2,
      "outputs": []
    },
    {
      "cell_type": "code",
      "metadata": {
        "colab": {
          "base_uri": "https://localhost:8080/"
        },
        "id": "Dv-KjkOiX4FE",
        "outputId": "94c53aac-7ce6-4d53-e250-c03b1ec714d5"
      },
      "source": [
        "from pyspark import SparkFiles\n",
        "url = \"https://s3.amazonaws.com/amazon-reviews-pds/tsv/amazon_reviews_us_Toys_v1_00.tsv.gz\"\n",
        "spark.sparkContext.addFile(url)\n",
        "df = spark.read.option(\"encoding\", \"UTF-8\").csv(SparkFiles.get(\"amazon_reviews_us_Toys_v1_00.tsv.gz\"), sep=\"\\t\", header=True, inferSchema=True)\n",
        "df.show()"
      ],
      "execution_count": 3,
      "outputs": [
        {
          "output_type": "stream",
          "name": "stdout",
          "text": [
            "+-----------+-----------+--------------+----------+--------------+--------------------+----------------+-----------+-------------+-----------+----+-----------------+--------------------+--------------------+-----------+\n",
            "|marketplace|customer_id|     review_id|product_id|product_parent|       product_title|product_category|star_rating|helpful_votes|total_votes|vine|verified_purchase|     review_headline|         review_body|review_date|\n",
            "+-----------+-----------+--------------+----------+--------------+--------------------+----------------+-----------+-------------+-----------+----+-----------------+--------------------+--------------------+-----------+\n",
            "|         US|   18778586| RDIJS7QYB6XNR|B00EDBY7X8|     122952789|Monopoly Junior B...|            Toys|          5|            0|          0|   N|                Y|          Five Stars|        Excellent!!!| 2015-08-31|\n",
            "|         US|   24769659|R36ED1U38IELG8|B00D7JFOPC|     952062646|56 Pieces of Wood...|            Toys|          5|            0|          0|   N|                Y|Good quality trac...|Great quality woo...| 2015-08-31|\n",
            "|         US|   44331596| R1UE3RPRGCOLD|B002LHA74O|     818126353|Super Jumbo Playi...|            Toys|          2|            1|          1|   N|                Y|           Two Stars|Cards are not as ...| 2015-08-31|\n",
            "|         US|   23310293|R298788GS6I901|B00ARPLCGY|     261944918|Barbie Doll and F...|            Toys|          5|            0|          0|   N|                Y|my daughter loved...|my daughter loved...| 2015-08-31|\n",
            "|         US|   38745832|  RNX4EXOBBPN5|B00UZOPOFW|     717410439|Emazing Lights eL...|            Toys|          1|            1|          1|   N|                Y|     DONT BUY THESE!|Do not buy these!...| 2015-08-31|\n",
            "|         US|   13394189|R3BPETL222LMIM|B009B7F6CA|     873028700|Melissa & Doug Wa...|            Toys|          5|            0|          0|   N|                Y|          Five Stars|Great item. Pictu...| 2015-08-31|\n",
            "|         US|    2749569|R3SORMPJZO3F2J|B0101EHRSM|     723424342|Big Bang Cosmic P...|            Toys|          3|            2|          2|   N|                Y|         Three Stars|To keep together,...| 2015-08-31|\n",
            "|         US|   41137196|R2RDOJQ0WBZCF6|B00407S11Y|     383363775|Fun Express Insec...|            Toys|          5|            0|          0|   N|                Y|          Five Stars|I was pleased wit...| 2015-08-31|\n",
            "|         US|     433677|R2B8VBEPB4YEZ7|B00FGPU7U2|     780517568|Fisher-Price Octo...|            Toys|          5|            0|          0|   N|                Y|          Five Stars|    Children like it| 2015-08-31|\n",
            "|         US|    1297934|R1CB783I7B0U52|B0013OY0S0|     269360126|Claw Climber Goli...|            Toys|          1|            0|          1|   N|                Y|Shame on the sell...|Showed up not how...| 2015-08-31|\n",
            "|         US|   52006292| R2D90RQQ3V8LH|B00519PJTW|     493486387|100 Foot Multicol...|            Toys|          5|            0|          0|   N|                Y|          Five Stars|Really liked thes...| 2015-08-31|\n",
            "|         US|   32071052|R1Y4ZOUGFMJ327|B001TCY2DO|     459122467|Pig Jumbo Foil Ba...|            Toys|          5|            0|          0|   N|                Y|   Nice huge balloon|Nice huge balloon...| 2015-08-31|\n",
            "|         US|    7360347|R2BUV9QJI2A00X|B00DOQCWF8|     226984155|Minecraft Animal ...|            Toys|          5|            0|          1|   N|                Y|          Five Stars|          Great deal| 2015-08-31|\n",
            "|         US|   11613707| RSUHRJFJIRB3Z|B004C04I4I|     375659886|Disney Baby: Eeyo...|            Toys|          4|            0|          0|   N|                Y|          Four Stars|       As Advertised| 2015-08-31|\n",
            "|         US|   13545982|R1T96CG98BBA15|B00NWGEKBY|     933734136|Team Losi 8IGHT-E...|            Toys|          3|            2|          4|   N|                Y|... servo so expe...|Comes w a 15$ ser...| 2015-08-31|\n",
            "|         US|   43880421| R2ATXF4QQ30YW|B00000JS5S|     341842639|Hot Wheels 48- Ca...|            Toys|          5|            0|          0|   N|                Y|          Five Stars|   awesome ! Thanks!| 2015-08-31|\n",
            "|         US|    1662075|R1YS3DS218NNMD|B00XPWXYDK|     210135375|ZuZo 2.4GHz 4 CH ...|            Toys|          5|            4|          4|   N|                N|The closest relev...|I got this item f...| 2015-08-31|\n",
            "|         US|   18461411|R2SDXLTLF92O0H|B00VPXX92W|     705054378|Teenage Mutant Ni...|            Toys|          5|            0|          0|   N|                Y|          Five Stars|It was a birthday...| 2015-08-31|\n",
            "|         US|   27225859| R4R337CCDWLNG|B00YRA3H4U|     223420727|Franklin Sports M...|            Toys|          3|            0|          1|   Y|                N|Got wrong product...|Got a wrong produ...| 2015-08-31|\n",
            "|         US|   20494593|R32Z6UA4S5Q630|B009T8BSQY|     787701676|Alien Frontiers: ...|            Toys|          1|            0|          0|   N|                Y|         Overpriced.|You need expansio...| 2015-08-31|\n",
            "+-----------+-----------+--------------+----------+--------------+--------------------+----------------+-----------+-------------+-----------+----+-----------------+--------------------+--------------------+-----------+\n",
            "only showing top 20 rows\n",
            "\n"
          ]
        }
      ]
    },
    {
      "cell_type": "code",
      "metadata": {
        "colab": {
          "base_uri": "https://localhost:8080/"
        },
        "id": "f3Mprl3sYkJA",
        "outputId": "80d4fd03-e6c1-4fd0-f918-8c865eefc70f"
      },
      "source": [
        "# Create the vine_table DataFrame\n",
        "vine_df = df.select([\"review_id\", \"star_rating\", \"helpful_votes\", \"total_votes\", \"vine\", \"verified_purchase\"])\n",
        "vine_df.show()"
      ],
      "execution_count": 4,
      "outputs": [
        {
          "output_type": "stream",
          "name": "stdout",
          "text": [
            "+--------------+-----------+-------------+-----------+----+-----------------+\n",
            "|     review_id|star_rating|helpful_votes|total_votes|vine|verified_purchase|\n",
            "+--------------+-----------+-------------+-----------+----+-----------------+\n",
            "| RDIJS7QYB6XNR|          5|            0|          0|   N|                Y|\n",
            "|R36ED1U38IELG8|          5|            0|          0|   N|                Y|\n",
            "| R1UE3RPRGCOLD|          2|            1|          1|   N|                Y|\n",
            "|R298788GS6I901|          5|            0|          0|   N|                Y|\n",
            "|  RNX4EXOBBPN5|          1|            1|          1|   N|                Y|\n",
            "|R3BPETL222LMIM|          5|            0|          0|   N|                Y|\n",
            "|R3SORMPJZO3F2J|          3|            2|          2|   N|                Y|\n",
            "|R2RDOJQ0WBZCF6|          5|            0|          0|   N|                Y|\n",
            "|R2B8VBEPB4YEZ7|          5|            0|          0|   N|                Y|\n",
            "|R1CB783I7B0U52|          1|            0|          1|   N|                Y|\n",
            "| R2D90RQQ3V8LH|          5|            0|          0|   N|                Y|\n",
            "|R1Y4ZOUGFMJ327|          5|            0|          0|   N|                Y|\n",
            "|R2BUV9QJI2A00X|          5|            0|          1|   N|                Y|\n",
            "| RSUHRJFJIRB3Z|          4|            0|          0|   N|                Y|\n",
            "|R1T96CG98BBA15|          3|            2|          4|   N|                Y|\n",
            "| R2ATXF4QQ30YW|          5|            0|          0|   N|                Y|\n",
            "|R1YS3DS218NNMD|          5|            4|          4|   N|                N|\n",
            "|R2SDXLTLF92O0H|          5|            0|          0|   N|                Y|\n",
            "| R4R337CCDWLNG|          3|            0|          1|   Y|                N|\n",
            "|R32Z6UA4S5Q630|          1|            0|          0|   N|                Y|\n",
            "+--------------+-----------+-------------+-----------+----+-----------------+\n",
            "only showing top 20 rows\n",
            "\n"
          ]
        }
      ]
    },
    {
      "cell_type": "code",
      "metadata": {
        "colab": {
          "base_uri": "https://localhost:8080/"
        },
        "id": "aEqIaNBrZZL-",
        "outputId": "373533b8-156b-425b-e889-8b699ea290f5"
      },
      "source": [
        "#Step 1\n",
        "min_20_votes_df = vine_df.filter(\"total_votes>=20\")\n",
        "min_20_votes_df.show()"
      ],
      "execution_count": 5,
      "outputs": [
        {
          "output_type": "stream",
          "name": "stdout",
          "text": [
            "+--------------+-----------+-------------+-----------+----+-----------------+\n",
            "|     review_id|star_rating|helpful_votes|total_votes|vine|verified_purchase|\n",
            "+--------------+-----------+-------------+-----------+----+-----------------+\n",
            "| ROP6ITXO8K5V2|          5|           23|         27|   N|                Y|\n",
            "|R3ND1LVU7AXCVF|          1|           21|         21|   N|                Y|\n",
            "| R9I5FOLKU99RY|          5|           19|         20|   Y|                N|\n",
            "|R1QS8AOD6HX3ED|          4|           59|         81|   N|                N|\n",
            "|R3ED60RC69CCQ6|          5|           22|         23|   Y|                N|\n",
            "|R2MDI1TP46VSYD|          3|            9|         21|   N|                Y|\n",
            "|R2JM687C525WR9|          3|           33|         33|   Y|                N|\n",
            "|R2LWX4TZ67FWPT|          4|           50|         50|   N|                N|\n",
            "|R29IYHPYD14AGI|          3|           84|         84|   N|                Y|\n",
            "|R1F2I723WRK5QV|          5|           20|         20|   N|                Y|\n",
            "| RRO8C1IVZMD6H|          5|           22|         22|   N|                N|\n",
            "|R2GHOWIWDVLN18|          1|           28|         36|   N|                Y|\n",
            "|R30PJ9XUHFTY5D|          5|           42|         43|   N|                N|\n",
            "| RK12D8DTG4G82|          5|            5|         22|   N|                N|\n",
            "|R2F7D9N3SSQC20|          4|           32|         34|   N|                N|\n",
            "| RN4VK9FV66YPS|          5|           29|         33|   N|                N|\n",
            "|R18T8SFBDXAKSY|          5|           95|         95|   N|                Y|\n",
            "|R36SKVJXZ0I98A|          5|          124|        127|   N|                N|\n",
            "| RJDIWMOZT0EGZ|          1|           11|         27|   N|                N|\n",
            "|R3PAIHQSO707G4|          5|          189|        221|   N|                N|\n",
            "+--------------+-----------+-------------+-----------+----+-----------------+\n",
            "only showing top 20 rows\n",
            "\n"
          ]
        }
      ]
    },
    {
      "cell_type": "code",
      "metadata": {
        "colab": {
          "base_uri": "https://localhost:8080/"
        },
        "id": "KY5d7xX6aOmQ",
        "outputId": "d4867627-12cf-4fe8-8b0d-c0c462bfade1"
      },
      "source": [
        "#Step 2\n",
        "most_helpful_df = min_20_votes_df.filter((min_20_votes_df.helpful_votes)/(min_20_votes_df.total_votes)>=0.5)\n",
        "most_helpful_df.show()"
      ],
      "execution_count": 6,
      "outputs": [
        {
          "output_type": "stream",
          "name": "stdout",
          "text": [
            "+--------------+-----------+-------------+-----------+----+-----------------+\n",
            "|     review_id|star_rating|helpful_votes|total_votes|vine|verified_purchase|\n",
            "+--------------+-----------+-------------+-----------+----+-----------------+\n",
            "| ROP6ITXO8K5V2|          5|           23|         27|   N|                Y|\n",
            "|R3ND1LVU7AXCVF|          1|           21|         21|   N|                Y|\n",
            "| R9I5FOLKU99RY|          5|           19|         20|   Y|                N|\n",
            "|R1QS8AOD6HX3ED|          4|           59|         81|   N|                N|\n",
            "|R3ED60RC69CCQ6|          5|           22|         23|   Y|                N|\n",
            "|R2JM687C525WR9|          3|           33|         33|   Y|                N|\n",
            "|R2LWX4TZ67FWPT|          4|           50|         50|   N|                N|\n",
            "|R29IYHPYD14AGI|          3|           84|         84|   N|                Y|\n",
            "|R1F2I723WRK5QV|          5|           20|         20|   N|                Y|\n",
            "| RRO8C1IVZMD6H|          5|           22|         22|   N|                N|\n",
            "|R2GHOWIWDVLN18|          1|           28|         36|   N|                Y|\n",
            "|R30PJ9XUHFTY5D|          5|           42|         43|   N|                N|\n",
            "|R2F7D9N3SSQC20|          4|           32|         34|   N|                N|\n",
            "| RN4VK9FV66YPS|          5|           29|         33|   N|                N|\n",
            "|R18T8SFBDXAKSY|          5|           95|         95|   N|                Y|\n",
            "|R36SKVJXZ0I98A|          5|          124|        127|   N|                N|\n",
            "|R3PAIHQSO707G4|          5|          189|        221|   N|                N|\n",
            "|R2TETIV0IVWFSJ|          4|           80|         82|   N|                Y|\n",
            "|R1VBVD23GPZW0E|          5|           55|         58|   N|                Y|\n",
            "|R1AJKXVHURPVCZ|          3|           12|         22|   N|                Y|\n",
            "+--------------+-----------+-------------+-----------+----+-----------------+\n",
            "only showing top 20 rows\n",
            "\n"
          ]
        }
      ]
    },
    {
      "cell_type": "code",
      "metadata": {
        "colab": {
          "base_uri": "https://localhost:8080/"
        },
        "id": "zsVbY2VMbU0c",
        "outputId": "40604a64-24ea-4a14-ee41-1fd20c7009f4"
      },
      "source": [
        "#Step 3\n",
        "yes_vine_df = most_helpful_df.filter(most_helpful_df.vine == 'Y')\n",
        "yes_vine_df.show()"
      ],
      "execution_count": 9,
      "outputs": [
        {
          "output_type": "stream",
          "name": "stdout",
          "text": [
            "+--------------+-----------+-------------+-----------+----+-----------------+\n",
            "|     review_id|star_rating|helpful_votes|total_votes|vine|verified_purchase|\n",
            "+--------------+-----------+-------------+-----------+----+-----------------+\n",
            "| R9I5FOLKU99RY|          5|           19|         20|   Y|                N|\n",
            "|R3ED60RC69CCQ6|          5|           22|         23|   Y|                N|\n",
            "|R2JM687C525WR9|          3|           33|         33|   Y|                N|\n",
            "| RUB4AUWGHG16G|          4|           25|         27|   Y|                N|\n",
            "|R1S3IDYJUA6V2G|          5|           28|         32|   Y|                N|\n",
            "| RZFLN8FD5Y2M6|          4|           25|         28|   Y|                N|\n",
            "|R1V8NDXD9SETO5|          3|          320|        352|   Y|                N|\n",
            "|R2H4VEFWHP50M3|          5|           26|         36|   Y|                N|\n",
            "|R3DP6Y0A8WXUOV|          5|           21|         21|   Y|                N|\n",
            "| R49L85GZIKH4D|          3|           33|         36|   Y|                N|\n",
            "| R2RQKWRUS11DZ|          5|           18|         20|   Y|                N|\n",
            "| RZL7TPXLJPR2Z|          4|           19|         20|   Y|                N|\n",
            "|R34JSTH01HK1J8|          4|           75|         80|   Y|                N|\n",
            "|R1OI8PAJW4MWUY|          5|           20|         20|   Y|                N|\n",
            "|R1RXSJILN39UY1|          5|           48|         53|   Y|                N|\n",
            "| R79XS8S5EYX59|          3|           20|         22|   Y|                N|\n",
            "|R24STRS5M3QEXQ|          5|           60|         65|   Y|                N|\n",
            "|R15HJU8XNX1XG1|          4|           25|         26|   Y|                N|\n",
            "|R1NMYF3BJM72A0|          4|           57|         60|   Y|                N|\n",
            "| R8XSDH6E6YWMX|          4|           22|         24|   Y|                N|\n",
            "+--------------+-----------+-------------+-----------+----+-----------------+\n",
            "only showing top 20 rows\n",
            "\n"
          ]
        }
      ]
    },
    {
      "cell_type": "code",
      "metadata": {
        "colab": {
          "base_uri": "https://localhost:8080/"
        },
        "id": "FR-PJHfpcYOQ",
        "outputId": "4702eeed-6d31-44f7-ef17-47b13491114d"
      },
      "source": [
        "# Step 4\n",
        "no_vine_df = most_helpful_df.filter(most_helpful_df.vine == 'N')\n",
        "no_vine_df.show()"
      ],
      "execution_count": 10,
      "outputs": [
        {
          "output_type": "stream",
          "name": "stdout",
          "text": [
            "+--------------+-----------+-------------+-----------+----+-----------------+\n",
            "|     review_id|star_rating|helpful_votes|total_votes|vine|verified_purchase|\n",
            "+--------------+-----------+-------------+-----------+----+-----------------+\n",
            "| ROP6ITXO8K5V2|          5|           23|         27|   N|                Y|\n",
            "|R3ND1LVU7AXCVF|          1|           21|         21|   N|                Y|\n",
            "|R1QS8AOD6HX3ED|          4|           59|         81|   N|                N|\n",
            "|R2LWX4TZ67FWPT|          4|           50|         50|   N|                N|\n",
            "|R29IYHPYD14AGI|          3|           84|         84|   N|                Y|\n",
            "|R1F2I723WRK5QV|          5|           20|         20|   N|                Y|\n",
            "| RRO8C1IVZMD6H|          5|           22|         22|   N|                N|\n",
            "|R2GHOWIWDVLN18|          1|           28|         36|   N|                Y|\n",
            "|R30PJ9XUHFTY5D|          5|           42|         43|   N|                N|\n",
            "|R2F7D9N3SSQC20|          4|           32|         34|   N|                N|\n",
            "| RN4VK9FV66YPS|          5|           29|         33|   N|                N|\n",
            "|R18T8SFBDXAKSY|          5|           95|         95|   N|                Y|\n",
            "|R36SKVJXZ0I98A|          5|          124|        127|   N|                N|\n",
            "|R3PAIHQSO707G4|          5|          189|        221|   N|                N|\n",
            "|R2TETIV0IVWFSJ|          4|           80|         82|   N|                Y|\n",
            "|R1VBVD23GPZW0E|          5|           55|         58|   N|                Y|\n",
            "|R1AJKXVHURPVCZ|          3|           12|         22|   N|                Y|\n",
            "|R2QDNZYVEX9X14|          2|           18|         20|   N|                N|\n",
            "|R32RD311POLW7G|          3|           25|         27|   N|                Y|\n",
            "|R1VXO073B9HOGC|          4|           29|         30|   N|                Y|\n",
            "+--------------+-----------+-------------+-----------+----+-----------------+\n",
            "only showing top 20 rows\n",
            "\n"
          ]
        }
      ]
    },
    {
      "cell_type": "code",
      "metadata": {
        "colab": {
          "base_uri": "https://localhost:8080/"
        },
        "id": "uxOuzOLLcmAc",
        "outputId": "f091be1c-0395-4c87-824a-72d7c93d0e37"
      },
      "source": [
        "# Step 5-paid-a\n",
        "# Total paid reviews\n",
        "yes_total_count = yes_vine_df.count()\n",
        "yes_total_count"
      ],
      "execution_count": 17,
      "outputs": [
        {
          "output_type": "execute_result",
          "data": {
            "text/plain": [
              "1266"
            ]
          },
          "metadata": {},
          "execution_count": 17
        }
      ]
    },
    {
      "cell_type": "code",
      "metadata": {
        "colab": {
          "base_uri": "https://localhost:8080/"
        },
        "id": "onp3UUt2dqM7",
        "outputId": "6b96ea8d-e775-4284-eeca-3604e56ca526"
      },
      "source": [
        "# Step 5-paid-b\n",
        "# Total 5-star paid reviews\n",
        "yes_5_count= yes_vine_df.filter(yes_vine_df.star_rating == 5).count()\n",
        "yes_5_count"
      ],
      "execution_count": 18,
      "outputs": [
        {
          "output_type": "execute_result",
          "data": {
            "text/plain": [
              "432"
            ]
          },
          "metadata": {},
          "execution_count": 18
        }
      ]
    },
    {
      "cell_type": "code",
      "metadata": {
        "colab": {
          "base_uri": "https://localhost:8080/"
        },
        "id": "YX9LDw8YdpPn",
        "outputId": "dd273850-70f9-4788-f619-fe188ff8125a"
      },
      "source": [
        "# Step 5-paid-c\n",
        "# Percentage of 5-star paid reviews\n",
        "percentage_5_star_paid = (yes_5_count/yes_total_count)*100\n",
        "percentage_5_star_paid"
      ],
      "execution_count": 19,
      "outputs": [
        {
          "output_type": "execute_result",
          "data": {
            "text/plain": [
              "34.12322274881517"
            ]
          },
          "metadata": {},
          "execution_count": 19
        }
      ]
    },
    {
      "cell_type": "code",
      "metadata": {
        "colab": {
          "base_uri": "https://localhost:8080/"
        },
        "id": "ZXPfbnaye3Yu",
        "outputId": "9f87199d-4c89-49ec-c601-de823a0a8867"
      },
      "source": [
        "# Step 5-unpaid-a\n",
        "# Total unpaid reviews\n",
        "no_total_count = no_vine_df.count()\n",
        "no_total_count"
      ],
      "execution_count": 20,
      "outputs": [
        {
          "output_type": "execute_result",
          "data": {
            "text/plain": [
              "62028"
            ]
          },
          "metadata": {},
          "execution_count": 20
        }
      ]
    },
    {
      "cell_type": "code",
      "metadata": {
        "colab": {
          "base_uri": "https://localhost:8080/"
        },
        "id": "xXpi5lxhe2o9",
        "outputId": "8c0a3862-ec3c-480d-855f-70e90ae97d37"
      },
      "source": [
        "# Step 5-unpaid-b\n",
        "# Total 5-star unpaid reviews\n",
        "no_5_count= no_vine_df.filter(no_vine_df.star_rating == 5).count()\n",
        "no_5_count"
      ],
      "execution_count": 21,
      "outputs": [
        {
          "output_type": "execute_result",
          "data": {
            "text/plain": [
              "29982"
            ]
          },
          "metadata": {},
          "execution_count": 21
        }
      ]
    },
    {
      "cell_type": "code",
      "metadata": {
        "id": "qmywpqLUe3LP",
        "colab": {
          "base_uri": "https://localhost:8080/"
        },
        "outputId": "392065a1-8574-4078-c96d-f00b9d5caf28"
      },
      "source": [
        "# Step 5-unpaid-c\n",
        "# Percentage of 5-star unpaid reviews\n",
        "percentage_5_star_unpaid = (no_5_count/no_total_count)*100\n",
        "percentage_5_star_unpaid"
      ],
      "execution_count": 22,
      "outputs": [
        {
          "output_type": "execute_result",
          "data": {
            "text/plain": [
              "48.33623524859741"
            ]
          },
          "metadata": {},
          "execution_count": 22
        }
      ]
    }
  ]
}